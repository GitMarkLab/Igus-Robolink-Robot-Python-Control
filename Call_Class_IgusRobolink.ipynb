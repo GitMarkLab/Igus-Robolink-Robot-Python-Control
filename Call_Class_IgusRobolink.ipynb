{
 "cells": [
  {
   "cell_type": "code",
   "execution_count": null,
   "id": "d7bbeddd-7819-43de-98a5-d6a38e8c83ee",
   "metadata": {},
   "outputs": [],
   "source": [
    "from Class_IgusRobolink import IgusRobolink \n",
    "import time\n",
    "    \n",
    "    \n",
    "robot = IgusRobolink(\"192.168.3.11\")\n",
    "robot.connect()\n",
    "time.sleep(5.0)"
   ]
  },
  {
   "cell_type": "code",
   "execution_count": null,
   "id": "06a59eb5-cf09-479a-90ef-fd73ea5d9509",
   "metadata": {},
   "outputs": [],
   "source": [
    "robot.enable()\n",
    "time.sleep(5.0)"
   ]
  },
  {
   "cell_type": "code",
   "execution_count": null,
   "id": "35a72283-7709-4151-a62a-ea1258cdbeda",
   "metadata": {},
   "outputs": [],
   "source": [
    "status = robot.get_status('MotionStatus')\n",
    "print(status)\n",
    "if status == 'MotionNotAllowed':\n",
    "    print(\"Reference now \")\n",
    "    robot.ReferenceAllJoints()\n",
    "else:\n",
    "    robot.SetFlag_ReferenceAllJoints(True)\n",
    "    \n",
    "    \n",
    "time.sleep(2)"
   ]
  },
  {
   "cell_type": "code",
   "execution_count": null,
   "id": "9e28f960-d689-4f46-93c4-75be782bfd4a",
   "metadata": {},
   "outputs": [],
   "source": [
    "# Run relative transformed position\n",
    "robot.moveo(200,150,150,0,0,0,100)\n",
    "robot.get_status('RelativePosition')"
   ]
  },
  {
   "cell_type": "code",
   "execution_count": null,
   "id": "bd6cd84a-202b-4717-a2be-2efbe23d836e",
   "metadata": {},
   "outputs": [],
   "source": [
    "robot.moveo(20,15,16,0,0,0,100)\n",
    "robot.get_status('RelativePosition')"
   ]
  },
  {
   "cell_type": "code",
   "execution_count": null,
   "id": "659c3d4b-a83f-4a64-93d9-874fc1582dd4",
   "metadata": {},
   "outputs": [],
   "source": [
    "# Run absolute Position\n",
    "x, y, z    =  250.00,0.0, 260.00\n",
    "rx, ry, rz = -179.99, -00.00, 180.00\n",
    "speed = 20\n",
    "robot.move(x,y,z,rx,ry,rz,speed)"
   ]
  },
  {
   "cell_type": "code",
   "execution_count": null,
   "id": "d8421c14-006f-4224-866a-c411309a2ec6",
   "metadata": {},
   "outputs": [],
   "source": [
    "robot.enable_magnet()"
   ]
  },
  {
   "cell_type": "code",
   "execution_count": null,
   "id": "3784d75a-8a3b-4361-9a18-611573ef2166",
   "metadata": {},
   "outputs": [],
   "source": [
    "robot.disable_magnet()"
   ]
  },
  {
   "cell_type": "code",
   "execution_count": null,
   "id": "5c70f6e3-6124-45ee-8062-9e160193ff4d",
   "metadata": {},
   "outputs": [],
   "source": [
    "robot.moveo(200,150,150,0,0,0,100)\n",
    "robot.get_status('GlobalPosition')"
   ]
  },
  {
   "cell_type": "code",
   "execution_count": null,
   "id": "a4b3bce6-972a-4a5e-ac39-2dd797b00f59",
   "metadata": {},
   "outputs": [],
   "source": [
    "robot.get_status('RelativePosition')"
   ]
  },
  {
   "cell_type": "code",
   "execution_count": null,
   "id": "a845df4c-51d5-41fd-a718-fbb4a8a65f9d",
   "metadata": {},
   "outputs": [],
   "source": [
    "# touchdown in the corners relative Position\n",
    "x, y ,z  =  0, 80,19\n",
    "rx, ry, rz = 0,0,0\n",
    "s=10\n",
    "\n",
    "x_max = 290\n",
    "y_max = 200\n",
    "y_min = 80\n",
    "values= [[0,y_min,z],[0,y_max,z],[x_max,y_max,z],[x_max,y_min,z]]\n",
    "\n",
    "x_values = [0, 50, 100]  # Hier können Sie die gewünschten z-Werte definieren\n",
    "y_values = [80, 100, 150]  # Hier können Sie die gewünschten z-Werte definieren\n",
    "z_values = [13]  # Hier können Sie die gewünschten z-Werte definieren\n",
    "\n",
    "\n",
    "def runrob(x, y, z, rx, ry, rz,s):\n",
    "    robot.moveo(x, y, z+10, rx, ry, rz,100)\n",
    "    robot.moveo(x, y, z, rx, ry, rz,s)\n",
    "    time.sleep(2)\n",
    "    robot.moveo(x, y, z+10, rx, ry, rz,100)\n",
    "    return True\n",
    "    \n",
    "\n",
    "def move_generator(x, y,z, rx, ry, rz,s):\n",
    "    #z_values = [200, 250, 180]  # Hier können Sie die gewünschten z-Werte definieren\n",
    "    for x,y,z in values:\n",
    "        yield runrob(x, y, z, rx, ry, rz,s)\n",
    "\n",
    "\n",
    "\n",
    "for result in move_generator(x, y, z,rx, ry, rz,s):\n",
    "    print(result)\n",
    "\n",
    "robot.moveo(100,100,50,0,0,0,100)"
   ]
  },
  {
   "cell_type": "code",
   "execution_count": null,
   "id": "96d666ae-6c0f-41e2-a288-34e696481c9e",
   "metadata": {},
   "outputs": [],
   "source": [
    "robot.disconnect()"
   ]
  },
  {
   "cell_type": "code",
   "execution_count": null,
   "id": "0fb1d2e5-a918-4770-bcbe-724a8b765a1c",
   "metadata": {},
   "outputs": [],
   "source": []
  }
 ],
 "metadata": {
  "kernelspec": {
   "display_name": "Python 3 (ipykernel)",
   "language": "python",
   "name": "python3"
  },
  "language_info": {
   "codemirror_mode": {
    "name": "ipython",
    "version": 3
   },
   "file_extension": ".py",
   "mimetype": "text/x-python",
   "name": "python",
   "nbconvert_exporter": "python",
   "pygments_lexer": "ipython3",
   "version": "3.10.12"
  }
 },
 "nbformat": 4,
 "nbformat_minor": 5
}
