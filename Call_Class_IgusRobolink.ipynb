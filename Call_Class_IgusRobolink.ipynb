{
 "cells": [
  {
   "cell_type": "code",
   "execution_count": null,
   "id": "d7bbeddd-7819-43de-98a5-d6a38e8c83ee",
   "metadata": {},
   "outputs": [],
   "source": [
    "from Class_IgusRobolink import IgusRobolink \n",
    "import time\n",
    "    \n",
    "    \n",
    "robot = IgusRobolink(\"192.168.3.11\")\n",
    "robot.connect()\n",
    "time.sleep(5.0)"
   ]
  },
  {
   "cell_type": "code",
   "execution_count": null,
   "id": "35a72283-7709-4151-a62a-ea1258cdbeda",
   "metadata": {},
   "outputs": [],
   "source": [
    "robot.enable()\n",
    "time.sleep(5.0)\n",
    "    \n",
    "status = robot.get_status('MotionStatus')\n",
    "print(status)\n",
    "if status == 'MotionNotAllowed':\n",
    "    print(\"Reference now \")\n",
    "    robot.ReferenceAllJoints()\n",
    "else:\n",
    "    robot.SetFlag_ReferenceAllJoints(True)\n",
    "    \n",
    "    \n",
    "time.sleep(2)"
   ]
  },
  {
   "cell_type": "code",
   "execution_count": null,
   "id": "9e28f960-d689-4f46-93c4-75be782bfd4a",
   "metadata": {},
   "outputs": [],
   "source": [
    "# Run relative transformed position\n",
    "robot.moveo(200,150,150,0,0,0,100)"
   ]
  },
  {
   "cell_type": "code",
   "execution_count": null,
   "id": "bd6cd84a-202b-4717-a2be-2efbe23d836e",
   "metadata": {},
   "outputs": [],
   "source": [
    "robot.moveo(200,150,16,0,0,0,100)"
   ]
  },
  {
   "cell_type": "code",
   "execution_count": null,
   "id": "659c3d4b-a83f-4a64-93d9-874fc1582dd4",
   "metadata": {},
   "outputs": [],
   "source": [
    "# Run absolute Position\n",
    "x, y, z    =  250.00,0.0, 260.00\n",
    "rx, ry, rz = -179.99, -00.00, 180.00\n",
    "speed = 20\n",
    "robot.move(x,y,z,rx,ry,rz,speed)"
   ]
  },
  {
   "cell_type": "code",
   "execution_count": null,
   "id": "96d666ae-6c0f-41e2-a288-34e696481c9e",
   "metadata": {},
   "outputs": [],
   "source": [
    "robot.disconnect()"
   ]
  },
  {
   "cell_type": "code",
   "execution_count": null,
   "id": "0fb1d2e5-a918-4770-bcbe-724a8b765a1c",
   "metadata": {},
   "outputs": [],
   "source": []
  }
 ],
 "metadata": {
  "kernelspec": {
   "display_name": "Python 3 (ipykernel)",
   "language": "python",
   "name": "python3"
  },
  "language_info": {
   "codemirror_mode": {
    "name": "ipython",
    "version": 3
   },
   "file_extension": ".py",
   "mimetype": "text/x-python",
   "name": "python",
   "nbconvert_exporter": "python",
   "pygments_lexer": "ipython3",
   "version": "3.10.12"
  }
 },
 "nbformat": 4,
 "nbformat_minor": 5
}
