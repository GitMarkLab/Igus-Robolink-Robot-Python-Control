{
 "cells": [
  {
   "cell_type": "code",
   "execution_count": null,
   "id": "5afc5a6d-e2cf-4d58-8625-aacf5ef1fe59",
   "metadata": {},
   "outputs": [],
   "source": [
    "from Class_IgusRobolink import IgusRobolink \n",
    "import time\n",
    "    \n",
    "    \n",
    "robot = IgusRobolink(\"192.168.3.11\")\n",
    "robot.connect()\n",
    "time.sleep(5.0)"
   ]
  },
  {
   "cell_type": "code",
   "execution_count": null,
   "id": "7e126d16-0e59-4907-b03b-aef8f3727ec2",
   "metadata": {},
   "outputs": [],
   "source": [
    "robot.enable()\n",
    "time.sleep(5.0)\n",
    "\n",
    "status = robot.get_status('MotionStatus')\n",
    "print(status)\n",
    "if status == 'MotionNotAllowed':\n",
    "    print(\"Reference now \")\n",
    "    robot.ReferenceAllJoints()\n",
    "else:\n",
    "    robot.SetFlag_ReferenceAllJoints(True)\n",
    "        \n",
    "time.sleep(2)\n",
    "\n",
    "robot.motion_type(\"cartesian\")\n"
   ]
  },
  {
   "cell_type": "code",
   "execution_count": null,
   "id": "3e50dcba-6475-42a8-99d2-7d90eb0ca8bc",
   "metadata": {},
   "outputs": [],
   "source": [
    "import sys\n",
    "import os\n",
    "from time import sleep\n",
    "\n",
    "\n",
    "# Füge den Pfad zum Ordner 1 zu sys.path hinzu\n",
    "sys.path.append(\"/home/mrt/nas/dropbox/GIT/GitMarkLab/usb_hid_controller\")\n",
    "from class_hid import Controller\n",
    "controller = Controller() # Name (not nessesary),vid,pid)\n",
    "#controller.init('SNES Controller',\"0x0079\",\"0x0126\") # USB Clone of SNES Controller\n",
    "controller.init('PXN',\"0x0079\",\"0x187c\") # PXN 0082 Arcade Stick PC Street Fighter USB Arcade \n",
    "controller.connect()\n"
   ]
  },
  {
   "cell_type": "code",
   "execution_count": null,
   "id": "65996e15-9f2e-43cd-aac1-ef0288a3a9ea",
   "metadata": {},
   "outputs": [],
   "source": [
    "cases = [\"x+\",\"x-\",\"y+\",\"y-\",\"z+\",\"z-\",\"break\"]\n",
    "_speed=40\n",
    "config = {  # Mapping PXN 0082 Arcade Stick PC Street Fighter USB Arcade \n",
    "    \"x+\":[1, 32767,'X',_speed],       \n",
    "    \"x-\":[1, -32768,'X',-1*_speed],           \n",
    "    \"y+\":[0, 32767,'Y',_speed],       \n",
    "    \"y-\":[0, -32768,'Y',-1*_speed],             \n",
    "    \"z+\":[310, 1,'Z',_speed],       \n",
    "    \"z-\":[2, 255,'Z',-1*_speed],    \n",
    "    \"break\":[304,1,'-',0]      #307 Bx / 308 By  /311 R1 /  305 B / 304 A\n",
    "}\n",
    "\n",
    "quit = False\n",
    "while(quit == False):\n",
    "        #sleep(0.5)\n",
    "        found = False\n",
    "\n",
    "        for case in cases:\n",
    "            if(controller.get_data(config[case][0]) == config[case][1]):\n",
    "                robot.approach_start(config[case][2],config[case][3])\n",
    "                #robot.approach_start('X',20)\n",
    "                #print(config[case][2],config[case][3])   \n",
    "                found = True                \n",
    "                #print(case)\n",
    "                if(case==\"break\"):\n",
    "                    quit = True\n",
    "                    break\n",
    "            \n",
    "        if(found == False):\n",
    "            #print(\"Robot Stop\")\n",
    "            robot.approach_stop()\n",
    "    \n",
    "if(quit == True):\n",
    "    break"
   ]
  },
  {
   "cell_type": "code",
   "execution_count": null,
   "id": "96d666ae-6c0f-41e2-a288-34e696481c9e",
   "metadata": {},
   "outputs": [],
   "source": [
    "robot.disconnect()\n",
    "controller.controller.close()"
   ]
  }
 ],
 "metadata": {
  "kernelspec": {
   "display_name": "Python 3 (ipykernel)",
   "language": "python",
   "name": "python3"
  },
  "language_info": {
   "codemirror_mode": {
    "name": "ipython",
    "version": 3
   },
   "file_extension": ".py",
   "mimetype": "text/x-python",
   "name": "python",
   "nbconvert_exporter": "python",
   "pygments_lexer": "ipython3",
   "version": "3.11.7"
  }
 },
 "nbformat": 4,
 "nbformat_minor": 5
}
