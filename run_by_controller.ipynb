{
 "cells": [
  {
   "cell_type": "code",
   "execution_count": null,
   "id": "d7bbeddd-7819-43de-98a5-d6a38e8c83ee",
   "metadata": {},
   "outputs": [
    {
     "name": "stdout",
     "output_type": "stream",
     "text": [
      "TODO connect\n",
      "path   /dev/input/event25\n",
      "controller found init gampad obj:   device /dev/input/event25, name \"Controller\", phys \"usb-0000:00:1d.0-1.2/input0\", uniq \"\"\n",
      "start thread\n",
      "Durchlauf 0\n",
      "[]\n",
      "-1    -1  \n",
      "Durchlauf 1\n",
      "[]\n",
      "-1    -1  \n",
      "Durchlauf 2\n",
      "[304 305]\n",
      "1    -1  \n",
      "Durchlauf 3\n",
      "[304 305]\n",
      "0    -1  \n",
      "Durchlauf 4\n",
      "[304 305]\n",
      "1    -1  \n",
      "Durchlauf 5\n",
      "[304 305]\n",
      "0    -1  \n",
      "Durchlauf 6\n",
      "[304 305]\n",
      "0    -1  \n",
      "Durchlauf 7\n",
      "[304 305]\n",
      "0    -1  \n",
      "Durchlauf 8\n",
      "[304 305]\n",
      "1    -1  \n",
      "Durchlauf 9\n",
      "[304 305]\n",
      "0    -1  \n",
      "Durchlauf 10\n",
      "[304 305]\n",
      "0    -1  \n",
      "Durchlauf 11\n",
      "[304 305]\n",
      "0    -1  \n",
      "Durchlauf 12\n",
      "[304 305]\n",
      "0    -1  \n",
      "Durchlauf 13\n",
      "[304 305 307 308]\n",
      "0    -1  \n",
      "Durchlauf 14\n",
      "[304 305 307 308]\n",
      "0    -1  \n",
      "Durchlauf 15\n",
      "[304 305 307 308]\n",
      "0    -1  \n",
      "Durchlauf 16\n",
      "[304 305 306 307 308]\n",
      "0    1  \n",
      "Durchlauf 17\n",
      "[304 305 306 307 308]\n",
      "0    1  \n",
      "Durchlauf 18\n",
      "[304 306 307 308]\n",
      "0    0  \n",
      "Durchlauf 19\n",
      "[304 308]\n",
      "0    0  \n",
      "Durchlauf 20\n",
      "[304 308]\n",
      "0    0  \n",
      "Durchlauf 21\n",
      "[304 308]\n",
      "0    0  \n"
     ]
    }
   ],
   "source": [
    "import sys\n",
    "import os\n",
    "from time import sleep\n",
    "import numpy as np\n",
    "\n",
    "def find_change_indices(arr):\n",
    "    # Konvertiere das Array zu einem numpy-Array\n",
    "    np_arr = np.array(arr)\n",
    "    \n",
    "    # Finde die Indizes, wo sich die Werte ändern\n",
    "    change_indices = np.where(np.diff(np_arr) != 0)[0] + 1\n",
    "    \n",
    "    return change_indices\n",
    "    \n",
    "# Füge den Pfad zum Ordner 1 zu sys.path hinzu\n",
    "sys.path.append(\"/home/mrt/nas/dropbox/GIT/GitMarkLab/usb_hid_controller\")\n",
    "from class_hid import Controller\n",
    "controller = Controller() # Name (not nessesary),vid,pid)\n",
    "controller.init('SNES Controller',\"0x0079\",\"0x0126\") # USB Clone of SNES Controller\n",
    "controller.connect()\n",
    "\n",
    "\n",
    "for i in range(100):\n",
    "    print(f\"Durchlauf {i}\")\n",
    "    \n",
    "\n",
    "    # get array element of touched button\n",
    "    result = find_change_indices(controller.get_raw_data()) \n",
    "    print(result) \n",
    "    # snes controller 0 128 255 \n",
    "    \n",
    "    if(True):\n",
    "        print(\n",
    "                controller.get_data(304),\"  \",\n",
    "                controller.get_data(305),\" \",\n",
    "                #controller.get_data(3),\"  \",\n",
    "                #controller.get_data(4),\" \",\n",
    "                #controller.get_data(308),\"  \",\n",
    "                #controller.get_data(309),\" \",\n",
    "                #controller.get_data(310),\" \"\n",
    "             ) \n",
    "    \n",
    "    #print(controller.get_raw_data())\n",
    "    sleep(1)\n",
    "\n",
    "\n"
   ]
  },
  {
   "cell_type": "code",
   "execution_count": 1,
   "id": "7e126d16-0e59-4907-b03b-aef8f3727ec2",
   "metadata": {},
   "outputs": [
    {
     "name": "stdout",
     "output_type": "stream",
     "text": [
      "Start thread\n",
      "in Thread\n",
      "Thread not connected\n",
      "Connect\n",
      "Connected to 192.168.3.11 using robolink_dci \n",
      "Thread connected\n"
     ]
    }
   ],
   "source": [
    "from Class_IgusRobolink import IgusRobolink \n",
    "import time\n",
    "    \n",
    "    \n",
    "robot = IgusRobolink(\"192.168.3.11\")\n",
    "robot.connect()\n",
    "time.sleep(5.0)"
   ]
  },
  {
   "cell_type": "code",
   "execution_count": 2,
   "id": "06a59eb5-cf09-479a-90ef-fd73ea5d9509",
   "metadata": {},
   "outputs": [],
   "source": [
    "robot.enable()\n",
    "time.sleep(5.0)"
   ]
  },
  {
   "cell_type": "code",
   "execution_count": 2,
   "id": "31fd4735-ddf7-4e44-a692-79d009c735e0",
   "metadata": {},
   "outputs": [
    {
     "name": "stdout",
     "output_type": "stream",
     "text": [
      "Reference all joints\n",
      "Reached\n"
     ]
    }
   ],
   "source": [
    "robot.ReferenceAllJoints()"
   ]
  },
  {
   "cell_type": "code",
   "execution_count": 3,
   "id": "35a72283-7709-4151-a62a-ea1258cdbeda",
   "metadata": {},
   "outputs": [
    {
     "name": "stdout",
     "output_type": "stream",
     "text": [
      "DOUT\n",
      "Error in background thread: [Errno 104] Connection reset by peer\n",
      "Connect\n",
      "Connected to 192.168.3.11 using robolink_dci \n"
     ]
    }
   ],
   "source": [
    "status = robot.get_status('MotionStatus')\n",
    "print(status)\n",
    "if status == 'MotionNotAllowed':\n",
    "    print(\"Reference now \")\n",
    "    robot.ReferenceAllJoints()\n",
    "else:\n",
    "    robot.SetFlag_ReferenceAllJoints(True)\n",
    "    \n",
    "    \n",
    "time.sleep(2)"
   ]
  },
  {
   "cell_type": "code",
   "execution_count": 2,
   "id": "699c136e-069e-4878-9082-fa4645459481",
   "metadata": {},
   "outputs": [
    {
     "name": "stdout",
     "output_type": "stream",
     "text": [
      "cartesian\n"
     ]
    }
   ],
   "source": [
    "robot.motion_type(\"cartesian\")"
   ]
  },
  {
   "cell_type": "code",
   "execution_count": 2,
   "id": "e4d151c3-5e73-4e85-9b65-46b834300599",
   "metadata": {},
   "outputs": [
    {
     "name": "stdout",
     "output_type": "stream",
     "text": [
      "TODO connect\n",
      "path   /dev/input/event25\n",
      "controller found init gampad obj:   device /dev/input/event25, name \"Controller\", phys \"usb-0000:00:1d.0-1.2/input0\", uniq \"\"\n",
      "start thread\n"
     ]
    }
   ],
   "source": [
    "import sys\n",
    "import os\n",
    "from time import sleep\n",
    "\n",
    "# Füge den Pfad zum Ordner 1 zu sys.path hinzu\n",
    "sys.path.append(\"/home/mrt/nas/dropbox/GIT/GitMarkLab/usb_hid_controller\")\n",
    "from class_hid import Controller\n",
    "controller = Controller() # Name (not nessesary),vid,pid)\n",
    "controller.init('SNES Controller',\"0x0079\",\"0x0126\") # USB Clone of SNES Controller\n",
    "controller.connect()"
   ]
  },
  {
   "cell_type": "code",
   "execution_count": 13,
   "id": "83fdc465-2ba7-4b75-abbf-045b97171e32",
   "metadata": {},
   "outputs": [
    {
     "name": "stdout",
     "output_type": "stream",
     "text": [
      "break\n"
     ]
    }
   ],
   "source": [
    "_z = 10\n",
    "_xy = 100\n",
    "while(True):\n",
    "    if(controller.get_data(308) == 1):\n",
    "        robot.approach_start('Z',-1*_z)\n",
    "    if(controller.get_data(309) == 1):\n",
    "        robot.approach_start('Z',_z)\n",
    "    if(controller.get_data(0) == 255):\n",
    "        robot.approach_start('Y',_xy)\n",
    "    if(controller.get_data(0) == 0):\n",
    "        robot.approach_start('Y',-1*_xy)\n",
    "    if(controller.get_data(1) == 255):\n",
    "        robot.approach_start('X',_xy)\n",
    "    if(controller.get_data(1) == 0):\n",
    "        robot.approach_start('X',-1*_xy)    \n",
    "    if(controller.get_data(304) == 1):\n",
    "        print(\"break\")\n",
    "        break \n",
    "    else:\n",
    "        robot.approach_stop()\n",
    "\n",
    "\n",
    "    "
   ]
  },
  {
   "cell_type": "code",
   "execution_count": null,
   "id": "44fe75ca-20f0-4401-9a63-169089b58123",
   "metadata": {},
   "outputs": [],
   "source": [
    "# cartisian coordinate system should be activated while approach, only xyz available actual\n",
    "robot.approach_start('Z',-5)"
   ]
  },
  {
   "cell_type": "code",
   "execution_count": null,
   "id": "e614ff45-d233-4f91-8f26-75acb88a50b3",
   "metadata": {},
   "outputs": [],
   "source": [
    "robot.approach_stop()"
   ]
  },
  {
   "cell_type": "code",
   "execution_count": null,
   "id": "69778635-d48c-4955-aae5-0bcbfbc585c1",
   "metadata": {},
   "outputs": [],
   "source": [
    "robot.approach_start('x',5)"
   ]
  },
  {
   "cell_type": "code",
   "execution_count": null,
   "id": "dcf3fb6b-5774-4f9d-b32b-15b2ca36395d",
   "metadata": {},
   "outputs": [],
   "source": [
    "robot.approach_stop()"
   ]
  },
  {
   "cell_type": "code",
   "execution_count": null,
   "id": "9e28f960-d689-4f46-93c4-75be782bfd4a",
   "metadata": {},
   "outputs": [],
   "source": [
    "# Run relative transformed position\n",
    "robot.moveo(200,150,150,0,0,0,100)\n",
    "robot.get_status('RelativePosition')"
   ]
  },
  {
   "cell_type": "code",
   "execution_count": null,
   "id": "bd6cd84a-202b-4717-a2be-2efbe23d836e",
   "metadata": {},
   "outputs": [],
   "source": [
    "robot.moveo(20,15,16,0,0,0,100)\n",
    "robot.get_status('RelativePosition')"
   ]
  },
  {
   "cell_type": "code",
   "execution_count": null,
   "id": "659c3d4b-a83f-4a64-93d9-874fc1582dd4",
   "metadata": {},
   "outputs": [],
   "source": [
    "# Run absolute Position\n",
    "x, y, z    =  250.00,0.0, 260.00\n",
    "rx, ry, rz = -179.99, -00.00, 180.00\n",
    "speed = 20\n",
    "robot.move(x,y,z,rx,ry,rz,speed)"
   ]
  },
  {
   "cell_type": "code",
   "execution_count": null,
   "id": "d8421c14-006f-4224-866a-c411309a2ec6",
   "metadata": {},
   "outputs": [],
   "source": [
    "robot.enable_magnet()"
   ]
  },
  {
   "cell_type": "code",
   "execution_count": null,
   "id": "3784d75a-8a3b-4361-9a18-611573ef2166",
   "metadata": {},
   "outputs": [],
   "source": [
    "robot.disable_magnet()"
   ]
  },
  {
   "cell_type": "code",
   "execution_count": null,
   "id": "5c70f6e3-6124-45ee-8062-9e160193ff4d",
   "metadata": {},
   "outputs": [],
   "source": [
    "robot.moveo(200,150,150,0,0,0,100)\n",
    "robot.get_status('GlobalPosition')"
   ]
  },
  {
   "cell_type": "code",
   "execution_count": null,
   "id": "a4b3bce6-972a-4a5e-ac39-2dd797b00f59",
   "metadata": {},
   "outputs": [],
   "source": [
    "robot.get_status('RelativePosition')"
   ]
  },
  {
   "cell_type": "code",
   "execution_count": null,
   "id": "a845df4c-51d5-41fd-a718-fbb4a8a65f9d",
   "metadata": {},
   "outputs": [],
   "source": [
    "# touchdown in the corners relative Position\n",
    "x, y ,z  =  0, 80,19\n",
    "rx, ry, rz = 0,0,0\n",
    "s=10\n",
    "\n",
    "x_max = 290\n",
    "y_max = 200\n",
    "y_min = 80\n",
    "values= [[0,y_min,z],[0,y_max,z],[x_max,y_max,z],[x_max,y_min,z]]\n",
    "\n",
    "x_values = [0, 50, 100]  # Hier können Sie die gewünschten z-Werte definieren\n",
    "y_values = [80, 100, 150]  # Hier können Sie die gewünschten z-Werte definieren\n",
    "z_values = [13]  # Hier können Sie die gewünschten z-Werte definieren\n",
    "\n",
    "\n",
    "def runrob(x, y, z, rx, ry, rz,s):\n",
    "    robot.moveo(x, y, z+10, rx, ry, rz,100)\n",
    "    robot.moveo(x, y, z, rx, ry, rz,s)\n",
    "    time.sleep(2)\n",
    "    robot.moveo(x, y, z+10, rx, ry, rz,100)\n",
    "    return True\n",
    "    \n",
    "\n",
    "def move_generator(x, y,z, rx, ry, rz,s):\n",
    "    #z_values = [200, 250, 180]  # Hier können Sie die gewünschten z-Werte definieren\n",
    "    for x,y,z in values:\n",
    "        yield runrob(x, y, z, rx, ry, rz,s)\n",
    "\n",
    "\n",
    "\n",
    "for result in move_generator(x, y, z,rx, ry, rz,s):\n",
    "    print(result)\n",
    "\n",
    "robot.moveo(100,100,50,0,0,0,100)"
   ]
  },
  {
   "cell_type": "code",
   "execution_count": null,
   "id": "96d666ae-6c0f-41e2-a288-34e696481c9e",
   "metadata": {},
   "outputs": [],
   "source": [
    "robot.disconnect()"
   ]
  },
  {
   "cell_type": "code",
   "execution_count": null,
   "id": "0fb1d2e5-a918-4770-bcbe-724a8b765a1c",
   "metadata": {},
   "outputs": [],
   "source": []
  }
 ],
 "metadata": {
  "kernelspec": {
   "display_name": "Python 3 (ipykernel)",
   "language": "python",
   "name": "python3"
  },
  "language_info": {
   "codemirror_mode": {
    "name": "ipython",
    "version": 3
   },
   "file_extension": ".py",
   "mimetype": "text/x-python",
   "name": "python",
   "nbconvert_exporter": "python",
   "pygments_lexer": "ipython3",
   "version": "3.11.7"
  }
 },
 "nbformat": 4,
 "nbformat_minor": 5
}
